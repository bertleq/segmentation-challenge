{
 "cells": [
  {
   "cell_type": "code",
   "execution_count": 1,
   "id": "75611555-6ec0-4e5f-833e-763b03a35269",
   "metadata": {},
   "outputs": [
    {
     "name": "stdout",
     "output_type": "stream",
     "text": [
      "Collecting monai\n",
      "  Using cached monai-1.3.0-202310121228-py3-none-any.whl.metadata (10 kB)\n",
      "Requirement already satisfied: numpy>=1.20 in /srv/conda/envs/notebook/lib/python3.11/site-packages (from monai) (1.26.4)\n",
      "Requirement already satisfied: torch>=1.9 in /srv/conda/envs/notebook/lib/python3.11/site-packages (from monai) (2.1.2.post303)\n",
      "Requirement already satisfied: filelock in /srv/conda/envs/notebook/lib/python3.11/site-packages (from torch>=1.9->monai) (3.13.3)\n",
      "Requirement already satisfied: typing-extensions in /srv/conda/envs/notebook/lib/python3.11/site-packages (from torch>=1.9->monai) (4.11.0)\n",
      "Requirement already satisfied: sympy in /srv/conda/envs/notebook/lib/python3.11/site-packages (from torch>=1.9->monai) (1.12)\n",
      "Requirement already satisfied: networkx in /srv/conda/envs/notebook/lib/python3.11/site-packages (from torch>=1.9->monai) (3.2.1)\n",
      "Requirement already satisfied: jinja2 in /srv/conda/envs/notebook/lib/python3.11/site-packages (from torch>=1.9->monai) (3.1.3)\n",
      "Requirement already satisfied: fsspec in /srv/conda/envs/notebook/lib/python3.11/site-packages (from torch>=1.9->monai) (2024.3.1)\n",
      "Requirement already satisfied: MarkupSafe>=2.0 in /srv/conda/envs/notebook/lib/python3.11/site-packages (from jinja2->torch>=1.9->monai) (2.1.5)\n",
      "Requirement already satisfied: mpmath>=0.19 in /srv/conda/envs/notebook/lib/python3.11/site-packages (from sympy->torch>=1.9->monai) (1.3.0)\n",
      "Using cached monai-1.3.0-202310121228-py3-none-any.whl (1.3 MB)\n",
      "Installing collected packages: monai\n",
      "Successfully installed monai-1.3.0\n"
     ]
    }
   ],
   "source": [
    "import torch\n",
    "!pip install monai\n",
    "from tqdm import tqdm\n",
    "from statistics import mean\n",
    "from torch.nn.functional import threshold, normalize\n",
    "from monai.networks import one_hot\n",
    "from torchvision.transforms import Resize\n",
    "import torch.nn.functional as F\n",
    "!pip install -q git+https://github.com/huggingface/transformers.git datasets\n"
   ]
  },
  {
   "cell_type": "code",
   "execution_count": 2,
   "id": "56b4330b-4ec0-4382-9561-b599fa139db2",
   "metadata": {},
   "outputs": [],
   "source": [
    "from torch.utils.data import Dataset\n",
    "from tqdm import tqdm\n",
    "class SAMDataset(Dataset):\n",
    "  def __init__(self, dataset, processor):\n",
    "    self.dataset = dataset\n",
    "    self.processor = processor\n",
    "\n",
    "  def __len__(self):\n",
    "    return len(self.dataset)\n",
    "\n",
    "  def __getitem__(self, idx):\n",
    "    item = self.dataset[idx]\n",
    "    image = item[\"image\"]\n",
    "    ground_truth_mask = np.array(item[\"label\"]).transpose(2,0,1)\n",
    "\n",
    "    # get bounding box prompt\n",
    "    prompt = get_bounding_box(ground_truth_mask)\n",
    "\n",
    "    # prepare image and prompt for the model\n",
    "    inputs = self.processor(image, input_boxes=[[prompt]], return_tensors=\"pt\")\n",
    "\n",
    "    # remove batch dimension which the processor adds by default\n",
    "    inputs = {k:v.squeeze(0) for k,v in inputs.items()}\n",
    "\n",
    "    # add ground truth segmentation\n",
    "    inputs[\"ground_truth_mask\"] = ground_truth_mask\n",
    "\n",
    "    return inputs\n",
    "\n",
    "\n",
    "def get_bounding_box(ground_truth_map):\n",
    "    \"\"\"\n",
    "    # get bounding box from mask\n",
    "    y_indices, x_indices = np.where(ground_truth_map > 0)\n",
    "    x_min, x_max = np.min(x_indices), np.max(x_indices)\n",
    "    y_min, y_max = np.min(y_indices), np.max(y_indices)\n",
    "    # add perturbation to bounding box coordinates\n",
    "    H, W = ground_truth_map.shape\n",
    "    x_min = max(0, x_min - np.random.randint(0, 20))\n",
    "    x_max = min(W, x_max + np.random.randint(0, 20))\n",
    "    y_min = max(0, y_min - np.random.randint(0, 20))\n",
    "    y_max = min(H, y_max + np.random.randint(0, 20))\n",
    "    bbox = [x_min, y_min, x_max, y_max]\n",
    "    \"\"\"\n",
    "    H, W = ground_truth_map.shape[:2]\n",
    "    bbox = [0, 0, W, H]\n",
    "\n",
    "    return bbox\n"
   ]
  },
  {
   "cell_type": "markdown",
   "id": "e7c342ae-aec3-48b9-8b6f-29e82f5c4c0a",
   "metadata": {},
   "source": [
    "### download test data\n",
    "Same process as for the training data"
   ]
  },
  {
   "cell_type": "code",
   "execution_count": null,
   "id": "ed46a5e6-7c12-4c55-86a5-ee4de0a3c5fa",
   "metadata": {},
   "outputs": [],
   "source": [
    "#!pip install git+https://github.com/surgical-vision/SAR_RARP50-evaluation#egg=sarrarp50-toolkit\n",
    "\n",
    "'''\n",
    "import os\n",
    "#!pip install wget\n",
    "#import wget\n",
    "#url = 'https://rdr.ucl.ac.uk/ndownloader/articles/24932499/versions/1'\n",
    "#filename = wget.download(url)\n",
    "\n",
    "##unzip\n",
    "import zipfile\n",
    "with zipfile.ZipFile(\"24932499.zip\",\"r\") as zip_ref:\n",
    "    zip_ref.extractall(\"test_folder\")\n",
    "\n",
    "for video in os.listdir('test_folder/'):\n",
    "    if video.endswith(\".zip\"):\n",
    "        with zipfile.ZipFile('test_folder/'+video,\"r\") as zip_ref:\n",
    "            zip_ref.extractall('test_folder/'+video[:-4])\n",
    "'''\n",
    "import sarrarp50\n",
    "import argparse, sys\n",
    "from sample_video import sample_video as sample_video_u\n",
    "\n",
    "def main_sample(args):\n",
    "\n",
    "    video_fps = 60 # all the sarrarp50 videos are recorded at 60 fps\n",
    "    sampiling_period:int =video_fps//args.frequency\n",
    "\n",
    "    # find all the files that need to be processed\n",
    "    \"\"\"\n",
    "    if not args.recursive:\n",
    "        #video_dirs = [Path(args.data_dir).resolve()]\n",
    "        video_dirs = [Path('path_to_root_data_dir').resolve()]\n",
    "    else:\n",
    "        #video_dirs = [v_p.parent for v_p in Path(args.data_dir).rglob('*video_left.avi')]\n",
    "        \"\"\"\n",
    "    video_dirs = [v_p.parent for v_p in Path('test_folder').rglob('*video_left.avi')]\n",
    "    # validate paths\n",
    "    \n",
    "    for directory in video_dirs:\n",
    "        if not (directory.exists() and (directory/'video_left.avi').exists()):\n",
    "            print(f\"{directory} does not a video directory. please make sure video directory path is correct\")\n",
    "    \n",
    "    for directory in video_dirs:#, desc='unpacking dataset', bar_format='{l_bar}{bar:10}{r_bar}{bar:-10b}'):\n",
    "        rgb_dir = (directory/'rgb')\n",
    "        sample_video_u(directory/'video_left.avi', rgb_dir, sampiling_period, args.jobs)\n",
    "\n",
    "\n",
    "parser = argparse.ArgumentParser()\n",
    "parser.add_argument('data_dir', help='path pointing to the video or dataset directory',default='test_folder')\n",
    "parser.add_argument('-f', '--frequency', type=int, help='sampling rate in Hz', choices= [1, 10], default=1)\n",
    "parser.add_argument('-r', '--recursive', help='search recursively for video directories that have video_left.avi as a child', action='store_true')\n",
    "parser.add_argument('-j', '--jobs', help='number of parallel works to use when saving images', default=4, type=int)\n",
    "args = parser.parse_args(sys.argv[2:])\n",
    "SystemExit(main_sample(args))\n"
   ]
  },
  {
   "cell_type": "markdown",
   "id": "c5977471-f4d1-432e-876e-66ebe72f2190",
   "metadata": {},
   "source": [
    "### import model"
   ]
  },
  {
   "cell_type": "code",
   "execution_count": 3,
   "id": "c0ad690a-8004-4ec9-9403-9bd16e229dad",
   "metadata": {},
   "outputs": [
    {
     "name": "stderr",
     "output_type": "stream",
     "text": [
      "Using cache found in /home/jovyan/.cache/torch/hub/lukemelas_EfficientNet-PyTorch_master\n"
     ]
    },
    {
     "name": "stdout",
     "output_type": "stream",
     "text": [
      "Loaded pretrained weights for efficientnet-b0\n"
     ]
    },
    {
     "name": "stderr",
     "output_type": "stream",
     "text": [
      "Using cache found in /home/jovyan/.cache/torch/hub/lukemelas_EfficientNet-PyTorch_master\n"
     ]
    },
    {
     "name": "stdout",
     "output_type": "stream",
     "text": [
      "Loaded pretrained weights for efficientnet-b0\n"
     ]
    }
   ],
   "source": [
    "## data processing loading\n",
    "import torch\n",
    "from transformers import SamModel, SamProcessor\n",
    "from torch.utils.data import DataLoader\n",
    "import torch.nn as nn\n",
    "device = \"cuda\" if torch.cuda.is_available() else \"cpu\"\n",
    "\n",
    "processor = SamProcessor.from_pretrained(\"facebook/sam-vit-base\")\n",
    "\n",
    "from torch.optim import Adam\n",
    "import monai\n",
    "from transformers import SamModel \n",
    "from torch import nn\n",
    "from fpn.factory import make_fpn_efficientnet\n",
    "\n",
    "fpn = make_fpn_efficientnet(\n",
    "\tname='efficientnet_b0',\n",
    "\tfpn_type='fpn',\n",
    "\tpretrained=True,\n",
    "\tnum_classes=11,\n",
    "\tfpn_channels=128,\n",
    "\tin_channels=4,\n",
    "\tout_size=(256, 256))\n",
    "\n",
    "sam = SamModel.from_pretrained(\"facebook/sam-vit-base\")\n",
    "\n",
    "class model_classify(nn.Module):\n",
    "    def __init__(self, sam,classi):\n",
    "        super().__init__()\n",
    "        self.sam = sam\n",
    "        self.classi = classi\n",
    "        #self.linear = nn.Linear(3,11)\n",
    "\n",
    "    def forward(self,pixel_values,input_boxes,multimask_output):\n",
    "        \n",
    "        outputs = self.sam(pixel_values = pixel_values,input_boxes = input_boxes,multimask_output = multimask_output)\n",
    "        outputs_mask = outputs.pred_masks.squeeze(1)\n",
    "        outputs = F.sigmoid(outputs.pred_masks.squeeze(1))\n",
    "        z = (outputs>0.5).int()\n",
    "        mask = (z == 0)\n",
    "        z = z * (~mask)\n",
    "        z = torch.concatenate([z , Resize((256,256))(pixel_values)],axis = 1)\n",
    "        z = self.classi(z)\n",
    "        '''\n",
    "        N,C,H,W = predicted_masks.shape\n",
    "        predicted_masks = predicted_masks.permute(0,2,3,1).contiguous()\n",
    "        predicted_masks = predicted_masks.reshape(N*H*W,C)\n",
    "        predicted_masks = self.linear(predicted_masks)\n",
    "        predicted_masks = predicted_masks.reshape(N,H,W,11)\n",
    "        predicted_masks = predicted_masks.permute(0,3,1,2).contiguous()\n",
    "        '''\n",
    "        return z,outputs_mask\n",
    "        \n",
    "model = model_classify(sam, fpn)\n",
    "\n",
    "\n",
    "checkpoint = torch.load('./sam_classification_3.pt')\n",
    "model.load_state_dict(checkpoint)\n",
    "\n",
    "model.to(device)\n",
    "\n",
    "\n",
    "optimizer = Adam(model.classi.parameters(), lr=1e-5, weight_decay=0)\n",
    "\n",
    "seg_loss = monai.losses.DiceCELoss(sigmoid=True, squared_pred=True, reduction='mean')\n",
    "seg_loss_class = monai.losses.DiceCELoss( squared_pred=True, reduction='mean')"
   ]
  },
  {
   "cell_type": "markdown",
   "id": "737173d2-87c8-4827-ac39-dc9e6fce17f6",
   "metadata": {},
   "source": [
    "### Eval on a few picture picked randomly"
   ]
  },
  {
   "cell_type": "code",
   "execution_count": 4,
   "id": "8fa997c8-f1f8-477a-b368-cabe538e4c20",
   "metadata": {},
   "outputs": [],
   "source": [
    "#from PIL import Image \n",
    "import numpy as np\n",
    "from pathlib import Path\n",
    "\n",
    "list_path = [[],[]]\n",
    "for par in np.unique([v_p.parent.parent for v_p in Path('test_folder').rglob('*.png')]):\n",
    "    for video in [v_p for v_p in Path(par/'rgb').rglob('*.png')]:\n",
    "        list_path[0].append(str(video))\n",
    "        list_path[1].append(str(par/'segmentation'/video.name))\n",
    "ind = np.random.choice(np.arange(len(list_path[0])), 1000)\n",
    "list_path[0] = np.array(list_path[0])[list(ind )]\n",
    "list_path[1] = np.array(list_path[1])[list(ind) ]"
   ]
  },
  {
   "cell_type": "code",
   "execution_count": 5,
   "id": "81b55ac2-995f-4f6f-a797-2c4946cb1c57",
   "metadata": {},
   "outputs": [],
   "source": [
    "from datasets import load_dataset,Dataset, Image\n",
    "dataset = Dataset.from_dict({'label' : list_path[1],  'image' : list_path[0]}).cast_column(\"image\", Image()).cast_column(\"label\", Image())\n",
    "#dataset = load_dataset(\"nielsr/breast-cancer\", split=\"train\")"
   ]
  },
  {
   "cell_type": "code",
   "execution_count": 6,
   "id": "963c979d-dde3-4946-9aaa-57d7930c05b9",
   "metadata": {},
   "outputs": [
    {
     "data": {
      "application/vnd.jupyter.widget-view+json": {
       "model_id": "85bd46e1acb24a6cace04dea4a1586c4",
       "version_major": 2,
       "version_minor": 0
      },
      "text/plain": [
       "Map:   0%|          | 0/1000 [00:00<?, ? examples/s]"
      ]
     },
     "metadata": {},
     "output_type": "display_data"
    },
    {
     "data": {
      "application/vnd.jupyter.widget-view+json": {
       "model_id": "717c09ae157b48fba580774252f0ced6",
       "version_major": 2,
       "version_minor": 0
      },
      "text/plain": [
       "Map:   0%|          | 0/1000 [00:00<?, ? examples/s]"
      ]
     },
     "metadata": {},
     "output_type": "display_data"
    }
   ],
   "source": [
    "def transforms_image(examples):\n",
    "    examples[\"image\"] = [image.resize((256,256)) for image in examples[\"image\"]]\n",
    "    \n",
    "    return examples\n",
    "\n",
    "dataset = dataset.map(transforms_image, batched=True)\n",
    "\n",
    "def transforms_label(examples):\n",
    "    examples[\"label\"] = [image.resize((256,256)) for image in examples[\"label\"]]\n",
    "    \n",
    "    return examples\n",
    "dataset = dataset.map(transforms_label, batched=True)"
   ]
  },
  {
   "cell_type": "code",
   "execution_count": 7,
   "id": "9fab40c7-078b-4116-b2b4-7300bbb741c1",
   "metadata": {},
   "outputs": [],
   "source": [
    "## filter applied on pictures\n",
    "from scipy.ndimage import laplace\n",
    "from numpy import asarray\n",
    "from PIL import Image\n",
    "for ind in range(len(dataset)):\n",
    "    dataset[ind]['image'] = Image.fromarray(asarray(dataset[ind]['image'])+laplace(asarray(dataset[6]['image'])))\n"
   ]
  },
  {
   "cell_type": "code",
   "execution_count": 8,
   "id": "fe623c73-7ea4-4e85-8fc8-bb55ef7879e5",
   "metadata": {},
   "outputs": [],
   "source": [
    "test_dataloader = SAMDataset(dataset=dataset, processor=processor)\n",
    "test_dataloader = DataLoader(test_dataloader, batch_size=2, shuffle=True)"
   ]
  },
  {
   "cell_type": "code",
   "execution_count": 9,
   "id": "165eaf64-faf5-44bb-80a4-a1d152734e8d",
   "metadata": {},
   "outputs": [
    {
     "name": "stderr",
     "output_type": "stream",
     "text": [
      "0it [00:00, ?it/s]/srv/conda/envs/notebook/lib/python3.11/site-packages/torchvision/transforms/functional.py:1603: UserWarning: The default value of the antialias parameter of all the resizing transforms (Resize(), RandomResizedCrop(), etc.) will change from None to True in v0.17, in order to be consistent across the PIL and Tensor backends. To suppress this warning, directly pass antialias=True (recommended, future default), antialias=None (current default, which means False for Tensors and True for PIL), or antialias=False (only works on Tensors - PIL will still use antialiasing). This also applies if you are using the inference transforms from the models weights: update the call to weights.transforms(antialias=True).\n",
      "  warnings.warn(\n",
      "500it [07:35,  1.10it/s]\n"
     ]
    }
   ],
   "source": [
    "result = np.zeros((2,len(list_path[0]), 256,256))\n",
    "device = 'cuda'\n",
    "model.eval()\n",
    "with torch.no_grad():\n",
    "\n",
    "    for i,batch in tqdm(enumerate(test_dataloader)):\n",
    "  # forward pass\n",
    "        outputs, __ = model(pixel_values = batch[\"pixel_values\"].to(device),\n",
    "                  input_boxes = batch[\"input_boxes\"].to(device),\n",
    "                  multimask_output = False)\n",
    "        outputs = torch.softmax(outputs, axis = 1)\n",
    "        outputs = outputs.cpu().numpy().squeeze()\n",
    "        outputs = np.argmax(outputs, axis = 1).astype(np.uint8)\n",
    "        result[0, i*2:(i+1)*2] = outputs\n",
    "        result[1, i*2:(i+1)*2] = batch[\"ground_truth_mask\"].float().mean(axis = 1)\n",
    "  "
   ]
  },
  {
   "cell_type": "markdown",
   "id": "31146923-5dde-4058-a814-07e07d9b3a0f",
   "metadata": {},
   "source": [
    "### Evaluation \n",
    "- We draw some random samples and compare prediction and ground truth\n",
    "- We compute two geometrical / probabilistic metrics"
   ]
  },
  {
   "cell_type": "code",
   "execution_count": 10,
   "id": "f5b11ce7-1cf8-42da-aab3-006c6e0b3582",
   "metadata": {},
   "outputs": [
    {
     "data": {
      "text/plain": [
       "(-0.5, 255.5, 255.5, -0.5)"
      ]
     },
     "execution_count": 10,
     "metadata": {},
     "output_type": "execute_result"
    },
    {
     "data": {
      "image/png": "[encoded data removed]",
      "text/plain": [
       "<Figure size 640x480 with 1 Axes>"
      ]
     },
     "metadata": {},
     "output_type": "display_data"
    }
   ],
   "source": [
    "import matplotlib.pyplot as plt\n",
    "fig, axes = plt.subplots()\n",
    "ind_eval = np.random.choice(np.arange(len(dataset)), 1)[0]\n",
    "axes.imshow(np.array(result[1,ind_eval]))\n",
    "axes.title.set_text(f\"Ground truth mask\")\n",
    "axes.axis(\"off\")"
   ]
  },
  {
   "cell_type": "code",
   "execution_count": 11,
   "id": "b996ef0b-63bd-4c02-abd1-19005085350b",
   "metadata": {},
   "outputs": [
    {
     "data": {
      "text/plain": [
       "(-0.5, 255.5, 255.5, -0.5)"
      ]
     },
     "execution_count": 11,
     "metadata": {},
     "output_type": "execute_result"
    },
    {
     "data": {
      "image/png": "[encoded data removed]",
      "text/plain": [
       "<Figure size 640x480 with 1 Axes>"
      ]
     },
     "metadata": {},
     "output_type": "display_data"
    }
   ],
   "source": [
    "fig, axes = plt.subplots()\n",
    "axes.imshow(result[0,ind_eval])\n",
    "axes.title.set_text(f\"Predicted mask\")\n",
    "axes.axis(\"off\")"
   ]
  },
  {
   "cell_type": "code",
   "execution_count": null,
   "id": "7b00f6d8-d528-4f34-bbd9-0ac69d9ee64c",
   "metadata": {},
   "outputs": [],
   "source": []
  },
  {
   "cell_type": "markdown",
   "id": "9be0689c-3f1d-422c-b3fe-3ea9f8f242fb",
   "metadata": {},
   "source": [
    "#### Surface Dice Metric"
   ]
  },
  {
   "cell_type": "code",
   "execution_count": 27,
   "id": "ff1c3d2d-b870-4a50-9bdf-43e1bed9600f",
   "metadata": {},
   "outputs": [
    {
     "data": {
      "text/plain": [
       "tensor(0.4203)"
      ]
     },
     "execution_count": 27,
     "metadata": {},
     "output_type": "execute_result"
    }
   ],
   "source": [
    "metric = monai.metrics.SurfaceDiceMetric([1]*11,\n",
    "                                            include_background=True,\n",
    "                                            reduction='mean')\n",
    "truth = one_hot(torch.Tensor(result[1])[:,None,...], num_classes = 11)\n",
    "pred = one_hot(torch.Tensor(result[0])[:,None,...],num_classes = 11)\n",
    "\n",
    "met = metric(truth,pred)\n",
    "met[met.isnan()] = 1\n",
    "met.mean(axis = 1).mean()\n"
   ]
  },
  {
   "cell_type": "markdown",
   "id": "2885df8c-1eed-4285-88af-c5416743a67e",
   "metadata": {},
   "source": [
    "#### Mean Intersection over Union Metric"
   ]
  },
  {
   "cell_type": "code",
   "execution_count": 12,
   "id": "eb4d0dff-9830-4d4f-9502-258ae8e175af",
   "metadata": {},
   "outputs": [
    {
     "data": {
      "text/plain": [
       "tensor(0.4872)"
      ]
     },
     "execution_count": 12,
     "metadata": {},
     "output_type": "execute_result"
    }
   ],
   "source": [
    "metric = monai.metrics.MeanIoU(include_background=True, reduction='mean', get_not_nans=False, ignore_empty=False)\n",
    "truth = one_hot(torch.Tensor(result[1])[:,None,...], num_classes = 11)\n",
    "pred = one_hot(torch.Tensor(result[0])[:,None,...],num_classes = 11)\n",
    "\n",
    "met = metric(truth,pred)\n",
    "met.mean()"
   ]
  },
  {
   "cell_type": "code",
   "execution_count": null,
   "id": "da957f96-c6f9-49c3-902d-5c143480635d",
   "metadata": {},
   "outputs": [],
   "source": []
  }
 ],
 "metadata": {
  "kernelspec": {
   "display_name": "Python 3 (ipykernel)",
   "language": "python",
   "name": "python3"
  },
  "language_info": {
   "codemirror_mode": {
    "name": "ipython",
    "version": 3
   },
   "file_extension": ".py",
   "mimetype": "text/x-python",
   "name": "python",
   "nbconvert_exporter": "python",
   "pygments_lexer": "ipython3",
   "version": "3.11.8"
  }
 },
 "nbformat": 4,
 "nbformat_minor": 5
}
